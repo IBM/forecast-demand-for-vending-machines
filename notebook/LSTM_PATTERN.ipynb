{
 "cells": [
  {
   "cell_type": "markdown",
   "metadata": {},
   "source": [
    "# Demand Forecasting using Deep Learning - LSTM (Long 'Short Term Memory')\n",
    "\n",
    "LSTM is one of the prominent techniques under Recurrent Neural Netrowk which is known to remember long sequences over time.\n",
    "\n",
    "### Can we mimic human behaviour of cash withdrawals using Deep Learning? Let's find out!"
   ]
  },
  {
   "cell_type": "markdown",
   "metadata": {},
   "source": [
    "## 1. Setup\n",
    "To prepare your environment, you need to install some packages.\n",
    "\n",
    "### 1.1 Install the necessary packages\n",
    "\n",
    "You need the latest versions of these packages:<br> We will be using Keras modules which runs on top of TensorFlow"
   ]
  },
  {
   "cell_type": "code",
   "execution_count": 1,
   "metadata": {},
   "outputs": [
    {
     "name": "stderr",
     "output_type": "stream",
     "text": [
      "Using TensorFlow backend.\n"
     ]
    }
   ],
   "source": [
    "import numpy as np \n",
    "import pandas as pd \n",
    "from subprocess import check_output\n",
    "from keras.layers.core import Dense, Activation, Dropout\n",
    "from keras.layers.recurrent import LSTM\n",
    "from keras.models import Sequential\n",
    "from keras.optimizers import Adam\n",
    "from sklearn.model_selection import  train_test_split\n",
    "import math, time\n",
    "from sklearn.preprocessing import MinMaxScaler\n",
    "import matplotlib.pyplot as plt\n",
    "from numpy import newaxis\n",
    "from pandas import read_csv\n",
    "from keras.callbacks import EarlyStopping\n",
    "from keras.callbacks import ModelCheckpoint\n",
    "from sklearn.preprocessing import StandardScaler\n",
    "from keras.models import model_from_json\n",
    "import h5py\n",
    "from keras.models import load_model\n",
    "%matplotlib inline"
   ]
  },
  {
   "cell_type": "markdown",
   "metadata": {},
   "source": [
    "# 1.2 Fix random seed for reproducibility"
   ]
  },
  {
   "cell_type": "code",
   "execution_count": 2,
   "metadata": {
    "collapsed": true
   },
   "outputs": [],
   "source": [
    "from numpy.random import seed\n",
    "seed(1309)\n",
    "from tensorflow import set_random_seed\n",
    "set_random_seed(1309)"
   ]
  },
  {
   "cell_type": "markdown",
   "metadata": {},
   "source": [
    "## 2. Read the Data & convert it into Dataframe\n",
    "Click on Insert to code and then select Insert pandas DataFrame in the below empty cell."
   ]
  },
  {
   "cell_type": "code",
   "execution_count": 3,
   "metadata": {},
   "outputs": [
    {
     "data": {
      "text/html": [
       "<div>\n",
       "<table border=\"1\" class=\"dataframe\">\n",
       "  <thead>\n",
       "    <tr style=\"text-align: right;\">\n",
       "      <th></th>\n",
       "      <th>Daily_Withdrawal_Amount</th>\n",
       "    </tr>\n",
       "  </thead>\n",
       "  <tbody>\n",
       "    <tr>\n",
       "      <th>0</th>\n",
       "      <td>655600</td>\n",
       "    </tr>\n",
       "    <tr>\n",
       "      <th>1</th>\n",
       "      <td>643700</td>\n",
       "    </tr>\n",
       "    <tr>\n",
       "      <th>2</th>\n",
       "      <td>663500</td>\n",
       "    </tr>\n",
       "    <tr>\n",
       "      <th>3</th>\n",
       "      <td>692400</td>\n",
       "    </tr>\n",
       "    <tr>\n",
       "      <th>4</th>\n",
       "      <td>735200</td>\n",
       "    </tr>\n",
       "  </tbody>\n",
       "</table>\n",
       "</div>"
      ],
      "text/plain": [
       "   Daily_Withdrawal_Amount\n",
       "0                   655600\n",
       "1                   643700\n",
       "2                   663500\n",
       "3                   692400\n",
       "4                   735200"
      ]
     },
     "execution_count": 3,
     "metadata": {},
     "output_type": "execute_result"
    }
   ],
   "source": [
    "\n",
    "df_data_1 = pd.read_csv(body)\n",
    "df_data_1.head()"
   ]
  },
  {
   "cell_type": "markdown",
   "metadata": {},
   "source": [
    "# 3. Rename the dataframe and convert the datatype"
   ]
  },
  {
   "cell_type": "code",
   "execution_count": 4,
   "metadata": {
    "collapsed": true
   },
   "outputs": [],
   "source": [
    "series = df_data_1\n",
    "series = series.astype(float)"
   ]
  },
  {
   "cell_type": "markdown",
   "metadata": {},
   "source": [
    "# 4. Plot the data"
   ]
  },
  {
   "cell_type": "code",
   "execution_count": 5,
   "metadata": {},
   "outputs": [
    {
     "data": {
      "image/png": "[encoded data removed]",
      "text/plain": [
       "<matplotlib.figure.Figure at 0x1441f518>"
      ]
     },
     "metadata": {},
     "output_type": "display_data"
    }
   ],
   "source": [
    "plt.figure(figsize=(20,6))\n",
    "plt.plot(series.values)\n",
    "plt.show()"
   ]
  },
  {
   "cell_type": "markdown",
   "metadata": {},
   "source": [
    "We can observe, there's no trend and there is lot of variance."
   ]
  },
  {
   "cell_type": "markdown",
   "metadata": {},
   "source": [
    "# 5. Normalize the data"
   ]
  },
  {
   "cell_type": "code",
   "execution_count": 6,
   "metadata": {
    "collapsed": true
   },
   "outputs": [],
   "source": [
    "series = series.values\n",
    "scaler = MinMaxScaler(feature_range=(0, 1))\n",
    "series = scaler.fit_transform(series)"
   ]
  },
  {
   "cell_type": "markdown",
   "metadata": {},
   "source": [
    "# 6. Split the data into train and test with 80:20 ratio"
   ]
  },
  {
   "cell_type": "code",
   "execution_count": 7,
   "metadata": {},
   "outputs": [
    {
     "name": "stdout",
     "output_type": "stream",
     "text": [
      "2252 564\n"
     ]
    }
   ],
   "source": [
    "train_size = int(len(series) * 0.80)\n",
    "test_size = len(series) - train_size\n",
    "train, test = series[0:train_size,:], series[train_size:len(series),:]\n",
    "print(len(train), len(test))"
   ]
  },
  {
   "cell_type": "markdown",
   "metadata": {},
   "source": [
    "# 7. Helper function to generate the dataset with input(X) & output(Y) variables"
   ]
  },
  {
   "cell_type": "code",
   "execution_count": 8,
   "metadata": {
    "collapsed": true
   },
   "outputs": [],
   "source": [
    "def create_dataset(dataset, look_back=1):\n",
    "    dataX, dataY = [], []\n",
    "    for i in range(len(dataset)-look_back-1):\n",
    "        a = dataset[i:(i+look_back), 0]\n",
    "        dataX.append(a)\n",
    "        dataY.append(dataset[i + look_back, 0])\n",
    "    return np.array(dataX), np.array(dataY)"
   ]
  },
  {
   "cell_type": "markdown",
   "metadata": {},
   "source": [
    "# 7.1 Create a dataset with a look back period of 20 observations\n",
    "\n",
    "This is where we convert the time series problem into a regression problem"
   ]
  },
  {
   "cell_type": "code",
   "execution_count": 9,
   "metadata": {
    "collapsed": true
   },
   "outputs": [],
   "source": [
    "look_back = 20\n",
    "trainX, trainY = create_dataset(train, look_back)\n",
    "testX, testY = create_dataset(test, look_back)"
   ]
  },
  {
   "cell_type": "markdown",
   "metadata": {},
   "source": [
    "# 7.2 Review the shape of datasets"
   ]
  },
  {
   "cell_type": "code",
   "execution_count": 10,
   "metadata": {},
   "outputs": [
    {
     "data": {
      "text/plain": [
       "(2231, 20)"
      ]
     },
     "execution_count": 10,
     "metadata": {},
     "output_type": "execute_result"
    }
   ],
   "source": [
    "trainX.shape"
   ]
  },
  {
   "cell_type": "code",
   "execution_count": 11,
   "metadata": {},
   "outputs": [
    {
     "data": {
      "text/plain": [
       "(543, 20)"
      ]
     },
     "execution_count": 11,
     "metadata": {},
     "output_type": "execute_result"
    }
   ],
   "source": [
    "testX.shape"
   ]
  },
  {
   "cell_type": "markdown",
   "metadata": {},
   "source": [
    "# 8. Reshape the data to 3D\n",
    "\n",
    "The LSTM model requires the input data to be three dimensional"
   ]
  },
  {
   "cell_type": "code",
   "execution_count": 12,
   "metadata": {
    "collapsed": true
   },
   "outputs": [],
   "source": [
    "trainX = np.reshape(trainX, (trainX.shape[0], trainX.shape[1], 1))\n",
    "testX = np.reshape(testX, (testX.shape[0], testX.shape[1], 1))"
   ]
  },
  {
   "cell_type": "code",
   "execution_count": 13,
   "metadata": {},
   "outputs": [
    {
     "data": {
      "text/plain": [
       "(2231, 20, 1)"
      ]
     },
     "execution_count": 13,
     "metadata": {},
     "output_type": "execute_result"
    }
   ],
   "source": [
    "trainX.shape"
   ]
  },
  {
   "cell_type": "markdown",
   "metadata": {},
   "source": [
    "# 9. Define the LSTM model\n",
    "\n",
    "Activation function will activate the neurons for the learning. Rectified linear unit (ReLu) is one of the most popular activations because the output does not go beyond 0.\n",
    "\n",
    "Units will be the number of neurons in the input & hidden layers.\n",
    "\n",
    "Stateful is where we define whether the previous information has to be remembered or not.\n",
    "\n",
    "Dropout is where we omit random neurons for each layer as per the value (0 to 1). In this case we omit 20% of the neurons.\n",
    "\n",
    "Optimiser is where the weights are back propagated through the network to enhance the learnings closer to the desired outcome. Adam optimiser is an efficient method for enhanced accuracy."
   ]
  },
  {
   "cell_type": "code",
   "execution_count": 14,
   "metadata": {},
   "outputs": [
    {
     "name": "stdout",
     "output_type": "stream",
     "text": [
      "Build Model...\n",
      "_________________________________________________________________\n",
      "Layer (type)                 Output Shape              Param #   \n",
      "=================================================================\n",
      "lstm_1 (LSTM)                (None, 20, 50)            10400     \n",
      "_________________________________________________________________\n",
      "dropout_1 (Dropout)          (None, 20, 50)            0         \n",
      "_________________________________________________________________\n",
      "lstm_2 (LSTM)                (None, 50)                20200     \n",
      "_________________________________________________________________\n",
      "dropout_2 (Dropout)          (None, 50)                0         \n",
      "_________________________________________________________________\n",
      "dense_1 (Dense)              (None, 32)                1632      \n",
      "_________________________________________________________________\n",
      "dense_2 (Dense)              (None, 1)                 33        \n",
      "=================================================================\n",
      "Total params: 32,265\n",
      "Trainable params: 32,265\n",
      "Non-trainable params: 0\n",
      "_________________________________________________________________\n"
     ]
    }
   ],
   "source": [
    "print('Build Model...')\n",
    "model = Sequential()\n",
    "model.add(LSTM(input_shape=(20,1), kernel_initializer=\"uniform\", return_sequences=True, stateful=False, units=50))\n",
    "model.add(Dropout(0.2))\n",
    "model.add(LSTM(50, kernel_initializer=\"uniform\", activation='relu',return_sequences=False))\n",
    "model.add(Dropout(0.2))\n",
    "model.add(Dense(32,kernel_initializer=\"uniform\",activation='relu'))\n",
    "model.add(Dense(1, activation='linear'))\n",
    "#optimizer = Adam(lr=0.01)\n",
    "#model.compile(loss=\"mse\", optimizer=optimizer)\n",
    "model.compile(loss=\"mse\", optimizer='adam')\n",
    "model.summary()"
   ]
  },
  {
   "cell_type": "markdown",
   "metadata": {},
   "source": [
    "# 10. Params Calculation\n",
    "\n",
    "params = 4 * (size_of_input + 1 * size_of_output) + 4 * size_of_output^2\n",
    "\n"
   ]
  },
  {
   "cell_type": "markdown",
   "metadata": {},
   "source": [
    "# 11. Optimize computation time using early stopping\n",
    "\n",
    "We monitor the accuracy of validation loss ('val_loss') and end the training if there's no improvement in the accuracy after five iterations ('patience=5')."
   ]
  },
  {
   "cell_type": "code",
   "execution_count": 15,
   "metadata": {
    "collapsed": true
   },
   "outputs": [],
   "source": [
    "'''One of the methods to optimize computation time'''\n",
    "\n",
    "early_stopping=EarlyStopping(monitor='val_loss', patience=5, verbose=1, mode='auto')"
   ]
  },
  {
   "cell_type": "markdown",
   "metadata": {},
   "source": [
    "# 11.1 Fitting the model for training data"
   ]
  },
  {
   "cell_type": "code",
   "execution_count": 16,
   "metadata": {
    "scrolled": true
   },
   "outputs": [
    {
     "name": "stdout",
     "output_type": "stream",
     "text": [
      "Train on 2007 samples, validate on 224 samples\n",
      "Epoch 1/25\n",
      "2007/2007 [==============================] - 3s 1ms/step - loss: 0.0500 - val_loss: 0.0124\n",
      "Epoch 2/25\n",
      "2007/2007 [==============================] - 1s 495us/step - loss: 0.0208 - val_loss: 0.0124\n",
      "Epoch 3/25\n",
      "2007/2007 [==============================] - 1s 499us/step - loss: 0.0178 - val_loss: 0.0108\n",
      "Epoch 4/25\n",
      "2007/2007 [==============================] - 1s 484us/step - loss: 0.0144 - val_loss: 0.0102\n",
      "Epoch 5/25\n",
      "2007/2007 [==============================] - 1s 485us/step - loss: 0.0123 - val_loss: 0.0096\n",
      "Epoch 6/25\n",
      "2007/2007 [==============================] - 1s 491us/step - loss: 0.0119 - val_loss: 0.0092\n",
      "Epoch 7/25\n",
      "2007/2007 [==============================] - 1s 497us/step - loss: 0.0109 - val_loss: 0.0086\n",
      "Epoch 8/25\n",
      "2007/2007 [==============================] - 1s 489us/step - loss: 0.0102 - val_loss: 0.0081\n",
      "Epoch 9/25\n",
      "2007/2007 [==============================] - 1s 568us/step - loss: 0.0095 - val_loss: 0.0080\n",
      "Epoch 10/25\n",
      "2007/2007 [==============================] - 1s 590us/step - loss: 0.0089 - val_loss: 0.0074\n",
      "Epoch 11/25\n",
      "2007/2007 [==============================] - 1s 562us/step - loss: 0.0079 - val_loss: 0.0071\n",
      "Epoch 12/25\n",
      "2007/2007 [==============================] - 1s 503us/step - loss: 0.0077 - val_loss: 0.0069\n",
      "Epoch 13/25\n",
      "2007/2007 [==============================] - 1s 506us/step - loss: 0.0077 - val_loss: 0.0070\n",
      "Epoch 14/25\n",
      "2007/2007 [==============================] - 1s 498us/step - loss: 0.0072 - val_loss: 0.0067\n",
      "Epoch 15/25\n",
      "2007/2007 [==============================] - 1s 497us/step - loss: 0.0074 - val_loss: 0.0068\n",
      "Epoch 16/25\n",
      "2007/2007 [==============================] - 1s 496us/step - loss: 0.0070 - val_loss: 0.0063\n",
      "Epoch 17/25\n",
      "2007/2007 [==============================] - 1s 516us/step - loss: 0.0069 - val_loss: 0.0063\n",
      "Epoch 18/25\n",
      "2007/2007 [==============================] - 1s 497us/step - loss: 0.0066 - val_loss: 0.0060\n",
      "Epoch 19/25\n",
      "2007/2007 [==============================] - 1s 493us/step - loss: 0.0065 - val_loss: 0.0060\n",
      "Epoch 20/25\n",
      "2007/2007 [==============================] - 1s 497us/step - loss: 0.0063 - val_loss: 0.0057\n",
      "Epoch 21/25\n",
      "2007/2007 [==============================] - 1s 495us/step - loss: 0.0062 - val_loss: 0.0057\n",
      "Epoch 22/25\n",
      "2007/2007 [==============================] - 1s 496us/step - loss: 0.0060 - val_loss: 0.0055\n",
      "Epoch 23/25\n",
      "2007/2007 [==============================] - 1s 509us/step - loss: 0.0061 - val_loss: 0.0054\n",
      "Epoch 24/25\n",
      "2007/2007 [==============================] - 1s 506us/step - loss: 0.0057 - val_loss: 0.0052\n",
      "Epoch 25/25\n",
      "2007/2007 [==============================] - 1s 514us/step - loss: 0.0058 - val_loss: 0.0052\n",
      "> Compilation Time :  30.321734189987183\n"
     ]
    }
   ],
   "source": [
    "start = time.time()\n",
    "history = model.fit(trainX, trainY, batch_size=72, epochs=25, verbose=1, shuffle=False, validation_split=0.10, callbacks=[early_stopping])\n",
    "print(\"> Compilation Time : \", time.time() - start)"
   ]
  },
  {
   "cell_type": "markdown",
   "metadata": {},
   "source": [
    "Model run time is ~ 30 seconds and has produced almost similar values for training & validation loss which is great."
   ]
  },
  {
   "cell_type": "markdown",
   "metadata": {},
   "source": [
    "# 11.2 Create a function to calculate accuracy\n",
    "\n",
    "We will be using 'Mean Squared Error' & 'Root Mean Squared Error' functions to calculate accuracy"
   ]
  },
  {
   "cell_type": "code",
   "execution_count": 17,
   "metadata": {
    "collapsed": true
   },
   "outputs": [],
   "source": [
    "def model_score(model, trainX, trainY, testX, testY):\n",
    "    trainScore = model.evaluate(trainX, trainY, batch_size=72, verbose=0)\n",
    "    print('Train Score: %.5f MSE (%.2f RMSE)' % (trainScore, math.sqrt(trainScore)))\n",
    "\n",
    "    testScore = model.evaluate(testX, testY, batch_size=72, verbose=0)\n",
    "    print('Test Score: %.5f MSE (%.2f RMSE)' % (testScore, math.sqrt(testScore)))\n",
    "    return trainScore, testScore"
   ]
  },
  {
   "cell_type": "markdown",
   "metadata": {},
   "source": [
    "# 11.3 Check the Accuracy of the model"
   ]
  },
  {
   "cell_type": "code",
   "execution_count": 18,
   "metadata": {},
   "outputs": [
    {
     "name": "stdout",
     "output_type": "stream",
     "text": [
      "Train Score: 0.00511 MSE (0.07 RMSE)\n",
      "Test Score: 0.00470 MSE (0.07 RMSE)\n"
     ]
    },
    {
     "data": {
      "text/plain": [
       "(0.005113740855095727, 0.004698952322938989)"
      ]
     },
     "execution_count": 18,
     "metadata": {},
     "output_type": "execute_result"
    }
   ],
   "source": [
    "model_score(model, trainX, trainY, testX, testY)"
   ]
  },
  {
   "cell_type": "markdown",
   "metadata": {},
   "source": [
    "We can observe that the Root Mean Squared Error (RMSE) values are almost similar for training & test data which confirms the accuracy of the model without overfitting or underfitting.\n",
    "\n",
    "The model accuracy is > 94% as per the values of Mean Squared Error (MSE)"
   ]
  },
  {
   "cell_type": "markdown",
   "metadata": {},
   "source": [
    "# 11.4 Review the learning of training & validation loss (error evaluation)"
   ]
  },
  {
   "cell_type": "code",
   "execution_count": 19,
   "metadata": {},
   "outputs": [
    {
     "data": {
      "image/png": "[encoded data removed]",
      "text/plain": [
       "<matplotlib.figure.Figure at 0x194dac18>"
      ]
     },
     "metadata": {},
     "output_type": "display_data"
    }
   ],
   "source": [
    "'''Review the learning'''\n",
    "\n",
    "plt.plot(history.history['loss'])\n",
    "plt.plot(history.history['val_loss'])\n",
    "plt.show()"
   ]
  },
  {
   "cell_type": "markdown",
   "metadata": {},
   "source": [
    "There's no vanishing gradient descent as the LSTM model with optimal configueration has taken care of the gradient descent problem."
   ]
  },
  {
   "cell_type": "markdown",
   "metadata": {},
   "source": [
    "# 11.5 Get the configuration of the model\n",
    "\n",
    "This will give us an idea about all the parameters available and which ones have been choosen."
   ]
  },
  {
   "cell_type": "code",
   "execution_count": 20,
   "metadata": {},
   "outputs": [
    {
     "data": {
      "text/plain": [
       "[{'class_name': 'LSTM',\n",
       "  'config': {'activation': 'tanh',\n",
       "   'activity_regularizer': None,\n",
       "   'batch_input_shape': (None, 20, 1),\n",
       "   'bias_constraint': None,\n",
       "   'bias_initializer': {'class_name': 'Zeros', 'config': {}},\n",
       "   'bias_regularizer': None,\n",
       "   'dropout': 0.0,\n",
       "   'dtype': 'float32',\n",
       "   'go_backwards': False,\n",
       "   'implementation': 1,\n",
       "   'kernel_constraint': None,\n",
       "   'kernel_initializer': {'class_name': 'RandomUniform',\n",
       "    'config': {'maxval': 0.05, 'minval': -0.05, 'seed': None}},\n",
       "   'kernel_regularizer': None,\n",
       "   'name': 'lstm_1',\n",
       "   'recurrent_activation': 'hard_sigmoid',\n",
       "   'recurrent_constraint': None,\n",
       "   'recurrent_dropout': 0.0,\n",
       "   'recurrent_initializer': {'class_name': 'Orthogonal',\n",
       "    'config': {'gain': 1.0, 'seed': None}},\n",
       "   'recurrent_regularizer': None,\n",
       "   'return_sequences': True,\n",
       "   'return_state': False,\n",
       "   'stateful': False,\n",
       "   'trainable': True,\n",
       "   'unit_forget_bias': True,\n",
       "   'units': 50,\n",
       "   'unroll': False,\n",
       "   'use_bias': True}},\n",
       " {'class_name': 'Dropout',\n",
       "  'config': {'name': 'dropout_1',\n",
       "   'noise_shape': None,\n",
       "   'rate': 0.2,\n",
       "   'seed': None,\n",
       "   'trainable': True}},\n",
       " {'class_name': 'LSTM',\n",
       "  'config': {'activation': 'relu',\n",
       "   'activity_regularizer': None,\n",
       "   'bias_constraint': None,\n",
       "   'bias_initializer': {'class_name': 'Zeros', 'config': {}},\n",
       "   'bias_regularizer': None,\n",
       "   'dropout': 0.0,\n",
       "   'go_backwards': False,\n",
       "   'implementation': 1,\n",
       "   'kernel_constraint': None,\n",
       "   'kernel_initializer': {'class_name': 'RandomUniform',\n",
       "    'config': {'maxval': 0.05, 'minval': -0.05, 'seed': None}},\n",
       "   'kernel_regularizer': None,\n",
       "   'name': 'lstm_2',\n",
       "   'recurrent_activation': 'hard_sigmoid',\n",
       "   'recurrent_constraint': None,\n",
       "   'recurrent_dropout': 0.0,\n",
       "   'recurrent_initializer': {'class_name': 'Orthogonal',\n",
       "    'config': {'gain': 1.0, 'seed': None}},\n",
       "   'recurrent_regularizer': None,\n",
       "   'return_sequences': False,\n",
       "   'return_state': False,\n",
       "   'stateful': False,\n",
       "   'trainable': True,\n",
       "   'unit_forget_bias': True,\n",
       "   'units': 50,\n",
       "   'unroll': False,\n",
       "   'use_bias': True}},\n",
       " {'class_name': 'Dropout',\n",
       "  'config': {'name': 'dropout_2',\n",
       "   'noise_shape': None,\n",
       "   'rate': 0.2,\n",
       "   'seed': None,\n",
       "   'trainable': True}},\n",
       " {'class_name': 'Dense',\n",
       "  'config': {'activation': 'relu',\n",
       "   'activity_regularizer': None,\n",
       "   'bias_constraint': None,\n",
       "   'bias_initializer': {'class_name': 'Zeros', 'config': {}},\n",
       "   'bias_regularizer': None,\n",
       "   'kernel_constraint': None,\n",
       "   'kernel_initializer': {'class_name': 'RandomUniform',\n",
       "    'config': {'maxval': 0.05, 'minval': -0.05, 'seed': None}},\n",
       "   'kernel_regularizer': None,\n",
       "   'name': 'dense_1',\n",
       "   'trainable': True,\n",
       "   'units': 32,\n",
       "   'use_bias': True}},\n",
       " {'class_name': 'Dense',\n",
       "  'config': {'activation': 'linear',\n",
       "   'activity_regularizer': None,\n",
       "   'bias_constraint': None,\n",
       "   'bias_initializer': {'class_name': 'Zeros', 'config': {}},\n",
       "   'bias_regularizer': None,\n",
       "   'kernel_constraint': None,\n",
       "   'kernel_initializer': {'class_name': 'VarianceScaling',\n",
       "    'config': {'distribution': 'uniform',\n",
       "     'mode': 'fan_avg',\n",
       "     'scale': 1.0,\n",
       "     'seed': None}},\n",
       "   'kernel_regularizer': None,\n",
       "   'name': 'dense_2',\n",
       "   'trainable': True,\n",
       "   'units': 1,\n",
       "   'use_bias': True}}]"
      ]
     },
     "execution_count": 20,
     "metadata": {},
     "output_type": "execute_result"
    }
   ],
   "source": [
    "model.get_config()"
   ]
  },
  {
   "cell_type": "code",
   "execution_count": 21,
   "metadata": {
    "collapsed": true
   },
   "outputs": [],
   "source": [
    "'''Create a function to plot predicted vs actual values'''\n",
    "\n",
    "def plot_the_results(predicted_data, true_data, prediction_len):\n",
    "    fig = plt.figure(facecolor='white', figsize=(16,8))\n",
    "    ax = fig.add_subplot(111)\n",
    "    ax.plot(true_data, label='True Data')\n",
    "    for i, data in enumerate(predicted_data):\n",
    "        padding = [None for p in range(i * prediction_len)]\n",
    "        plt.plot(padding + data, label='Prediction')\n",
    "        plt.plot(padding + data, 'b^')\n",
    "    plt.show()"
   ]
  },
  {
   "cell_type": "code",
   "execution_count": 22,
   "metadata": {
    "collapsed": true
   },
   "outputs": [],
   "source": [
    "'''Create a function to predict future values'''\n",
    "\n",
    "def predict_the_sequences(model, data, window_size, prediction_len):\n",
    "    prediction_seqs = []\n",
    "    for i in range(int(len(data)/prediction_len)):\n",
    "        curr_frame = data[i*prediction_len]\n",
    "        predicted = []\n",
    "        for j in range(prediction_len):\n",
    "            predicted.append(model.predict(curr_frame[newaxis,:,:])[0,0])\n",
    "            curr_frame = curr_frame[1:]\n",
    "            curr_frame = np.insert(curr_frame, [window_size-1], predicted[-1], axis=0)\n",
    "        prediction_seqs.append(predicted)\n",
    "    return prediction_seqs"
   ]
  },
  {
   "cell_type": "code",
   "execution_count": 23,
   "metadata": {},
   "outputs": [
    {
     "data": {
      "image/png": "[encoded data removed]",
      "text/plain": [
       "<matplotlib.figure.Figure at 0x194da198>"
      ]
     },
     "metadata": {},
     "output_type": "display_data"
    }
   ],
   "source": [
    "'''Predict future values & plot the results\n",
    "   In this case, we are predicting the current values.\n",
    "   If we need to predict t+1 then the prediction_len parameter has to be changed to 2\n",
    "   and if we need t+2 then prediction_len would be 3'''\n",
    "\n",
    "predictions = predict_the_sequences(model, testX, 20, 1)\n",
    "\n",
    "plot_the_results(predictions, testY, 1)"
   ]
  },
  {
   "cell_type": "markdown",
   "metadata": {},
   "source": [
    "We can observe that the model is able to catch the pattern in the data. This can be further improved by changing the hyper parameters however we are demonstrating the methodology."
   ]
  },
  {
   "cell_type": "markdown",
   "metadata": {},
   "source": [
    "## Cross Validation Technique for testing the accuracy on different training samples. \n",
    "\n",
    "### This is computationally intensive and should be performed on a GPU."
   ]
  },
  {
   "cell_type": "code",
   "execution_count": null,
   "metadata": {
    "collapsed": true
   },
   "outputs": [],
   "source": [
    "from keras.wrappers.scikit_learn import KerasRegressor\n",
    "from sklearn.model_selection import GridSearchCV\n",
    "from keras.models import Sequential\n",
    "from keras.layers import Dense\n",
    "from sklearn.model_selection import cross_val_score\n",
    "\n",
    "def build_regressor():\n",
    "    model = Sequential()\n",
    "    model.add(LSTM(input_shape=(20,1), kernel_initializer=\"uniform\", return_sequences=True, stateful=False, units=50))\n",
    "    model.add(Dropout(0.2))\n",
    "    model.add(LSTM(50, kernel_initializer=\"uniform\", activation='relu',return_sequences=False))\n",
    "    model.add(Dropout(0.2))\n",
    "    model.add(Dense(32,kernel_initializer=\"uniform\",activation='relu'))\n",
    "    model.add(Dense(1, activation='linear'))\n",
    "    model.compile(optimizer='adam', loss = \"mse\")\n",
    "    model.fit(trainX, trainY)\n",
    "    return regressor\n",
    "regressor = KerasRegressor(build_fn = build_regressor, batch_size = 72, epochs = 100)\n",
    "accuracies = cross_val_score(estimator = regressor, X = trainX, y = trainY, cv = 10, n_jobs = -1)\n",
    "mean = accuracies.mean()\n",
    "variance = accuracies.std()"
   ]
  },
  {
   "cell_type": "markdown",
   "metadata": {},
   "source": [
    "# Finding the best values for hyper parameters\n",
    "\n",
    "### This is again computationally intensive and should be performed on GPU"
   ]
  },
  {
   "cell_type": "code",
   "execution_count": null,
   "metadata": {
    "collapsed": true
   },
   "outputs": [],
   "source": [
    "from keras.wrappers.scikit_learn import KerasRegressor\n",
    "from sklearn.model_selection import GridSearchCV\n",
    "from keras.models import Sequential\n",
    "from keras.layers import Dense\n",
    "\n",
    "regressor = KerasRegressor(build_fn = build_regressor)\n",
    "parameters = {'batch_size': [42, 62, 82],\n",
    "              'epochs': [50, 75, 100],\n",
    "              'optimizer': ['adam', 'rmsprop']}\n",
    "grid_search = GridSearchCV(estimator = regressor,\n",
    "                           param_grid = parameters,\n",
    "                           scoring = 'accuracy',\n",
    "                           cv = 10)\n",
    "grid_search = grid_search.fit(trainX, trainY)\n",
    "best_parameters = grid_search.best_params_\n",
    "best_accuracy = grid_search.best_score_"
   ]
  },
  {
   "cell_type": "code",
   "execution_count": 24,
   "metadata": {},
   "outputs": [
    {
     "name": "stdout",
     "output_type": "stream",
     "text": [
      "           0\n",
      "0  1136291.0\n",
      "1  1110839.0\n",
      "2  1090587.0\n",
      "3  1057889.0\n",
      "4  1009583.0\n",
      "5   954677.0\n",
      "6   907711.0\n",
      "7   874989.0\n",
      "8   854701.0\n",
      "9   840063.0\n"
     ]
    }
   ],
   "source": [
    "'''Denormalize the predicted values and review.\n",
    "   Convert the predicted output to a dataframe & print the results'''\n",
    "\n",
    "predictions = scaler.inverse_transform(predictions)\n",
    "results = pd.DataFrame(np.round(predictions[-10:]))\n",
    "print(results)"
   ]
  },
  {
   "cell_type": "markdown",
   "metadata": {},
   "source": [
    "## Follow the earlier steps with multiple iterations by changing the hyperparameters for better understanding of the flow."
   ]
  },
  {
   "cell_type": "markdown",
   "metadata": {},
   "source": [
    "We can use model.save(filepath) to save a Keras model into a single HDF5 file which will contain:\n",
    "\n",
    "The architecture of the model, allowing to re-create the model.\n",
    "\n",
    "The weights of the model.\n",
    "\n",
    "The training configuration (loss, optimizer).\n",
    "\n",
    "The state of the optimizer, allowing to resume training exactly where you left off."
   ]
  },
  {
   "cell_type": "markdown",
   "metadata": {},
   "source": [
    "# 12. Transfer Learning\n",
    "\n",
    "Save the model for future use on new data"
   ]
  },
  {
   "cell_type": "markdown",
   "metadata": {},
   "source": [
    "## Methodology of saving the model to object storage or file system is out of scope of this pattern. It is assumed that the user would know how to save Keras model to object storage."
   ]
  },
  {
   "cell_type": "code",
   "execution_count": 25,
   "metadata": {},
   "outputs": [
    {
     "name": "stdout",
     "output_type": "stream",
     "text": [
      "Model saved to disc\n"
     ]
    }
   ],
   "source": [
    "model.save('filepath/my_model.h5')\n",
    "print('Model saved to disc')"
   ]
  },
  {
   "cell_type": "markdown",
   "metadata": {},
   "source": [
    "# 12.1 Load the model"
   ]
  },
  {
   "cell_type": "code",
   "execution_count": 26,
   "metadata": {},
   "outputs": [
    {
     "name": "stdout",
     "output_type": "stream",
     "text": [
      "Model loaded to the session\n"
     ]
    }
   ],
   "source": [
    "model = load_model('filepath/my_model.h5')\n",
    "print('Model loaded to the session')"
   ]
  },
  {
   "cell_type": "code",
   "execution_count": 27,
   "metadata": {},
   "outputs": [
    {
     "name": "stdout",
     "output_type": "stream",
     "text": [
      "   Daily_Withdrawal_Amount\n",
      "0                   910000\n",
      "1                   132200\n",
      "2                   110500\n",
      "3                   987100\n",
      "4                   764200\n",
      "(98, 1)\n"
     ]
    },
    {
     "data": {
      "text/plain": [
       "Daily_Withdrawal_Amount    False\n",
       "dtype: bool"
      ]
     },
     "execution_count": 27,
     "metadata": {},
     "output_type": "execute_result"
    }
   ],
   "source": [
    "'''Read new data & rename the dataframe'''\n",
    "\n",
    "print(df_data_2.head())\n",
    "print(df_data_2.shape)\n",
    "\n",
    "new_series = df_data_2\n",
    "new_series = new_series.astype(float)\n",
    "new_series.isnull().any()"
   ]
  },
  {
   "cell_type": "code",
   "execution_count": 28,
   "metadata": {},
   "outputs": [
    {
     "data": {
      "image/png": "[encoded data removed]",
      "text/plain": [
       "<matplotlib.figure.Figure at 0x1cf62cc0>"
      ]
     },
     "metadata": {},
     "output_type": "display_data"
    }
   ],
   "source": [
    "'''Plot the data'''\n",
    "\n",
    "plt.figure(figsize=(20,6))\n",
    "plt.plot(new_series.values)\n",
    "plt.show()"
   ]
  },
  {
   "cell_type": "code",
   "execution_count": 29,
   "metadata": {},
   "outputs": [
    {
     "name": "stdout",
     "output_type": "stream",
     "text": [
      "98\n"
     ]
    }
   ],
   "source": [
    "'''Normalize the data'''\n",
    "\n",
    "scaler = MinMaxScaler(feature_range=(0, 1))\n",
    "new_data = scaler.fit_transform(new_series)\n",
    "print(len(new_data))"
   ]
  },
  {
   "cell_type": "markdown",
   "metadata": {},
   "source": [
    "# Reshape the data and create the dataframe\n",
    "\n",
    "Note : We are not doing train and test split, instead we are feeding the entire new data to the trained model. "
   ]
  },
  {
   "cell_type": "code",
   "execution_count": 30,
   "metadata": {
    "collapsed": true
   },
   "outputs": [],
   "source": [
    "look_back = 20\n",
    "new_testX, new_testY = create_dataset(new_data, look_back)"
   ]
  },
  {
   "cell_type": "code",
   "execution_count": 31,
   "metadata": {
    "collapsed": true
   },
   "outputs": [],
   "source": [
    "new_testX = np.reshape(new_testX, (new_testX.shape[0], new_testX.shape[1], 1))"
   ]
  },
  {
   "cell_type": "code",
   "execution_count": 32,
   "metadata": {},
   "outputs": [
    {
     "data": {
      "text/plain": [
       "(77, 20, 1)"
      ]
     },
     "execution_count": 32,
     "metadata": {},
     "output_type": "execute_result"
    }
   ],
   "source": [
    "new_testX.shape"
   ]
  },
  {
   "cell_type": "markdown",
   "metadata": {},
   "source": [
    "# Optimize computation time using early stopping"
   ]
  },
  {
   "cell_type": "code",
   "execution_count": 33,
   "metadata": {
    "collapsed": true
   },
   "outputs": [],
   "source": [
    "early_stopping=EarlyStopping(monitor='val_loss', patience=10, verbose=1, mode='auto')"
   ]
  },
  {
   "cell_type": "code",
   "execution_count": 34,
   "metadata": {},
   "outputs": [
    {
     "name": "stdout",
     "output_type": "stream",
     "text": [
      "_________________________________________________________________\n",
      "Layer (type)                 Output Shape              Param #   \n",
      "=================================================================\n",
      "lstm_1 (LSTM)                (None, 20, 50)            10400     \n",
      "_________________________________________________________________\n",
      "dropout_1 (Dropout)          (None, 20, 50)            0         \n",
      "_________________________________________________________________\n",
      "lstm_2 (LSTM)                (None, 50)                20200     \n",
      "_________________________________________________________________\n",
      "dropout_2 (Dropout)          (None, 50)                0         \n",
      "_________________________________________________________________\n",
      "dense_1 (Dense)              (None, 32)                1632      \n",
      "_________________________________________________________________\n",
      "dense_2 (Dense)              (None, 1)                 33        \n",
      "=================================================================\n",
      "Total params: 32,265\n",
      "Trainable params: 32,265\n",
      "Non-trainable params: 0\n",
      "_________________________________________________________________\n"
     ]
    }
   ],
   "source": [
    "model.summary()"
   ]
  },
  {
   "cell_type": "markdown",
   "metadata": {},
   "source": [
    "# We are fitting the existing model on the new data using Transfer Learning where the learnings from previous data will be applied on the new data"
   ]
  },
  {
   "cell_type": "code",
   "execution_count": 35,
   "metadata": {},
   "outputs": [
    {
     "name": "stdout",
     "output_type": "stream",
     "text": [
      "Train on 73 samples, validate on 4 samples\n",
      "Epoch 1/20\n",
      "73/73 [==============================] - 1s 8ms/step - loss: 0.0153 - val_loss: 0.0028\n",
      "Epoch 2/20\n",
      "73/73 [==============================] - 0s 877us/step - loss: 0.0124 - val_loss: 0.0052\n",
      "Epoch 3/20\n",
      "73/73 [==============================] - 0s 932us/step - loss: 0.0174 - val_loss: 0.0078\n",
      "Epoch 4/20\n",
      "73/73 [==============================] - 0s 918us/step - loss: 0.0147 - val_loss: 0.0051\n",
      "Epoch 5/20\n",
      "73/73 [==============================] - 0s 904us/step - loss: 0.0090 - val_loss: 0.0048\n",
      "Epoch 6/20\n",
      "73/73 [==============================] - 0s 959us/step - loss: 0.0110 - val_loss: 0.0084\n",
      "Epoch 7/20\n",
      "73/73 [==============================] - 0s 808us/step - loss: 0.0103 - val_loss: 0.0094\n",
      "Epoch 8/20\n",
      "73/73 [==============================] - 0s 1ms/step - loss: 0.0101 - val_loss: 0.0044\n",
      "Epoch 9/20\n",
      "73/73 [==============================] - 0s 904us/step - loss: 0.0128 - val_loss: 0.0044\n",
      "Epoch 10/20\n",
      "73/73 [==============================] - 0s 932us/step - loss: 0.0144 - val_loss: 0.0086\n",
      "Epoch 11/20\n",
      "73/73 [==============================] - 0s 1ms/step - loss: 0.0117 - val_loss: 0.0130\n",
      "Epoch 00011: early stopping\n",
      "> Compilation Time :  1.304074764251709\n"
     ]
    }
   ],
   "source": [
    "start = time.time()\n",
    "model.fit(new_testX, new_testY, batch_size=72, epochs=20, verbose=1, shuffle=False, validation_split=0.05, callbacks=[early_stopping])\n",
    "print(\"> Compilation Time : \", time.time() - start)"
   ]
  },
  {
   "cell_type": "code",
   "execution_count": 36,
   "metadata": {
    "collapsed": true
   },
   "outputs": [],
   "source": [
    "'''Function to calculate accuracy\n",
    "   Here, we are using three parameters to create the function'''\n",
    "\n",
    "def model_score_new(model, new_testX, new_testY):\n",
    "    NewModelScore = model.evaluate(new_testX, new_testY, batch_size=72, verbose=0)\n",
    "    print('NewModel Score: %.5f MSE (%.2f RMSE)' % (NewModelScore, math.sqrt(NewModelScore)))\n",
    "    return NewModelScore"
   ]
  },
  {
   "cell_type": "code",
   "execution_count": 37,
   "metadata": {},
   "outputs": [
    {
     "name": "stdout",
     "output_type": "stream",
     "text": [
      "NewModel Score: 0.00663 MSE (0.08 RMSE)\n"
     ]
    },
    {
     "data": {
      "text/plain": [
       "0.006632148348665857"
      ]
     },
     "execution_count": 37,
     "metadata": {},
     "output_type": "execute_result"
    }
   ],
   "source": [
    "'''Test the accuracy'''\n",
    "\n",
    "model_score_new(model, new_testX, new_testY)"
   ]
  },
  {
   "cell_type": "markdown",
   "metadata": {},
   "source": [
    "# We can observe that the model performed well on the new data with great accuracy."
   ]
  },
  {
   "cell_type": "code",
   "execution_count": 38,
   "metadata": {},
   "outputs": [
    {
     "data": {
      "image/png": "[encoded data removed]",
      "text/plain": [
       "<matplotlib.figure.Figure at 0x1a273710>"
      ]
     },
     "metadata": {},
     "output_type": "display_data"
    }
   ],
   "source": [
    "'''Predict future values and plot the results'''\n",
    "\n",
    "predictions = predict_the_sequences(model, new_testX, 20, 1)\n",
    "\n",
    "plot_the_results(predictions, new_testY, 1)"
   ]
  },
  {
   "cell_type": "markdown",
   "metadata": {},
   "source": [
    "The model is able to identify and replicate the pattern in the data."
   ]
  },
  {
   "cell_type": "markdown",
   "metadata": {},
   "source": [
    "We can denormalize the predicted values and print as shown earlier."
   ]
  },
  {
   "cell_type": "markdown",
   "metadata": {},
   "source": [
    "# Methodology to save the model's architecture and weights for reusability in the future\n",
    "We can use these weights alone which has the learnings on other data."
   ]
  },
  {
   "cell_type": "code",
   "execution_count": 39,
   "metadata": {},
   "outputs": [
    {
     "name": "stdout",
     "output_type": "stream",
     "text": [
      "Saved model to disk\n"
     ]
    }
   ],
   "source": [
    "model_json = model.to_json()\n",
    "with open(\"filepath/model.json\", \"w\") as json_file:\n",
    "    json_file.write(model_json)\n",
    "\n",
    "model.save_weights(\"filepath/model.h5\")\n",
    "print(\"Saved model to disk\")"
   ]
  },
  {
   "cell_type": "markdown",
   "metadata": {},
   "source": [
    "# By loading the model architecture, we can rebuild the model with different configuration\n",
    "\n",
    "We can also use the existing weights on the new architecture."
   ]
  },
  {
   "cell_type": "code",
   "execution_count": 40,
   "metadata": {},
   "outputs": [
    {
     "name": "stdout",
     "output_type": "stream",
     "text": [
      "Loaded model from disk\n"
     ]
    }
   ],
   "source": [
    "json_file = open('filepath/model.json', 'r')\n",
    "loaded_model_json = json_file.read()\n",
    "json_file.close()\n",
    "loaded_model = model_from_json(loaded_model_json)\n",
    "\n",
    "\n",
    "loaded_model.load_weights(\"filepath/model.h5\")\n",
    "print(\"Loaded model from disk\")"
   ]
  },
  {
   "cell_type": "markdown",
   "metadata": {},
   "source": [
    "# Since we loaded the architecture & weights, we need to compile the model"
   ]
  },
  {
   "cell_type": "code",
   "execution_count": 41,
   "metadata": {
    "collapsed": true
   },
   "outputs": [],
   "source": [
    "loaded_model.compile(loss=\"mse\", optimizer=\"adam\")"
   ]
  },
  {
   "cell_type": "code",
   "execution_count": 42,
   "metadata": {
    "collapsed": true
   },
   "outputs": [],
   "source": [
    "early_stopping=EarlyStopping(monitor='val_loss', patience=4, verbose=1, mode='auto')"
   ]
  },
  {
   "cell_type": "markdown",
   "metadata": {},
   "source": [
    "# Fit the new loaded model on the data to churn out forecasts"
   ]
  },
  {
   "cell_type": "code",
   "execution_count": 43,
   "metadata": {},
   "outputs": [
    {
     "name": "stdout",
     "output_type": "stream",
     "text": [
      "Train on 73 samples, validate on 4 samples\n",
      "Epoch 1/15\n",
      "73/73 [==============================] - 2s 26ms/step - loss: 0.0099 - val_loss: 0.0067\n",
      "Epoch 2/15\n",
      "73/73 [==============================] - 0s 932us/step - loss: 0.0140 - val_loss: 0.0168\n",
      "Epoch 3/15\n",
      "73/73 [==============================] - 0s 986us/step - loss: 0.0130 - val_loss: 0.0128\n",
      "Epoch 4/15\n",
      "73/73 [==============================] - 0s 1ms/step - loss: 0.0100 - val_loss: 0.0079\n",
      "Epoch 5/15\n",
      "73/73 [==============================] - 0s 1ms/step - loss: 0.0095 - val_loss: 0.0066\n",
      "Epoch 6/15\n",
      "73/73 [==============================] - 0s 986us/step - loss: 0.0156 - val_loss: 0.0073\n",
      "Epoch 7/15\n",
      "73/73 [==============================] - 0s 904us/step - loss: 0.0140 - val_loss: 0.0101\n",
      "Epoch 8/15\n",
      "73/73 [==============================] - 0s 918us/step - loss: 0.0099 - val_loss: 0.0139\n",
      "Epoch 9/15\n",
      "73/73 [==============================] - 0s 959us/step - loss: 0.0124 - val_loss: 0.0132\n",
      "Epoch 00009: early stopping\n",
      "> Compilation Time :  5.445311546325684\n"
     ]
    }
   ],
   "source": [
    "start = time.time()\n",
    "loaded_model.fit(new_testX, new_testY, batch_size=72, epochs=15, verbose=1, shuffle=False, validation_split=0.05, callbacks=[early_stopping])\n",
    "print(\"> Compilation Time : \", time.time() - start)"
   ]
  },
  {
   "cell_type": "markdown",
   "metadata": {},
   "source": [
    "Early stopping function ha stopped the training for ~ epochs as there was no improvement in the validation loss values."
   ]
  },
  {
   "cell_type": "code",
   "execution_count": 44,
   "metadata": {},
   "outputs": [
    {
     "name": "stdout",
     "output_type": "stream",
     "text": [
      "NewModel Score: 0.00663 MSE (0.08 RMSE)\n"
     ]
    },
    {
     "data": {
      "text/plain": [
       "0.006632148348665857"
      ]
     },
     "execution_count": 44,
     "metadata": {},
     "output_type": "execute_result"
    }
   ],
   "source": [
    "'''Evaluate accuracy'''\n",
    "\n",
    "model_score_new(model, new_testX, new_testY)"
   ]
  },
  {
   "cell_type": "markdown",
   "metadata": {},
   "source": [
    "Again, the model has displayed great accuracy."
   ]
  },
  {
   "cell_type": "code",
   "execution_count": null,
   "metadata": {},
   "outputs": [],
   "source": [
    "'''Predict future values & plot the results'''\n",
    "\n",
    "predictions = predict_the_sequences(model, new_testX, 20, 1)\n",
    "\n",
    "plot_the_results(predictions, new_testY, 1)"
   ]
  },
  {
   "cell_type": "markdown",
   "metadata": {},
   "source": [
    "We can sum up the learnings of LSTM and its advantages. We have learned how to create and deploy a deep learning model, use transfer learning for testing on new data, save the model, architecture & weights for future use. We have also learned how to evaluate the model & tune the parameters. LSTM is a very popular technique which can be applied to different usecases and can produce great results. "
   ]
  },
  {
   "cell_type": "code",
   "execution_count": null,
   "metadata": {
    "collapsed": true
   },
   "outputs": [],
   "source": []
  }
 ],
 "metadata": {
  "kernelspec": {
   "display_name": "Python 3",
   "language": "python",
   "name": "python3"
  },
  "language_info": {
   "codemirror_mode": {
    "name": "ipython",
    "version": 3
   },
   "file_extension": ".py",
   "mimetype": "text/x-python",
   "name": "python",
   "nbconvert_exporter": "python",
   "pygments_lexer": "ipython3",
   "version": "3.7.4"
  }
 },
 "nbformat": 4,
 "nbformat_minor": 1
}
